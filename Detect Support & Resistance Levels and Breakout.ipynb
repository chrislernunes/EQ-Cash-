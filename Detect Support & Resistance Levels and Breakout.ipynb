{
 "cells": [
  {
   "cell_type": "markdown",
   "id": "84172ab5-c5cb-436f-b974-6eab9053b4cc",
   "metadata": {},
   "source": [
    "# Identifying Support and Resistance Levels in Stock Prices using Fractal Analysis"
   ]
  },
  {
   "cell_type": "markdown",
   "id": "3d6f695e-616e-499f-a574-465f53a2f4ef",
   "metadata": {},
   "source": [
    "Notebook created on 2nd May 2023"
   ]
  },
  {
   "cell_type": "markdown",
   "id": "1aadd0d3-bd80-4876-8108-f29781e57b62",
   "metadata": {},
   "source": [
    "***"
   ]
  },
  {
   "cell_type": "markdown",
   "id": "47b22305-2e03-49bd-82dc-4af3bbec7439",
   "metadata": {},
   "source": [
    "#### Abstract "
   ]
  },
  {
   "cell_type": "markdown",
   "id": "c7f2f176-1af7-4135-b484-0bfdfe4fa8d7",
   "metadata": {},
   "source": [
    "This project utilises stock market prices to identify potential support and resistance levels using two methods: fractal candlestick pattern and window shifting. The resulting plot shows the identified levels overlaid on the original stock price data, giving insights into potential buying and selling opportunities for traders and investors."
   ]
  },
  {
   "cell_type": "markdown",
   "id": "01da14df-67fb-4762-bffb-06de2d64b7a3",
   "metadata": {},
   "source": [
    "***"
   ]
  },
  {
   "cell_type": "code",
   "execution_count": 1,
   "id": "95f18c21",
   "metadata": {},
   "outputs": [],
   "source": [
    "import pandas as pd\n",
    "import yfinance as yf\n",
    "import numpy as np\n",
    "import math\n",
    "from mplfinance.original_flavor import candlestick_ohlc\n",
    "import matplotlib.dates as mpl_dates\n",
    "import matplotlib.pyplot as plt\n",
    "\n",
    "import warnings \n",
    "warnings.filterwarnings(\"ignore\")"
   ]
  },
  {
   "cell_type": "markdown",
   "id": "dca94be2-a043-434a-856d-113c46f30c9b",
   "metadata": {},
   "source": [
    "#### Import Symbol "
   ]
  },
  {
   "cell_type": "code",
   "execution_count": 2,
   "id": "f06595b3",
   "metadata": {},
   "outputs": [
    {
     "name": "stdout",
     "output_type": "stream",
     "text": [
      "[*********************100%***********************]  1 of 1 completed\n"
     ]
    }
   ],
   "source": [
    "def get_stock_price(symbol):\n",
    "  df = yf.download(symbol, start='2022-11-01', threads= False)\n",
    "  df['Date'] = pd.to_datetime(df.index)\n",
    "  df['Date'] = df['Date'].apply(mpl_dates.date2num)\n",
    "  df = df.loc[:,['Date', 'Open', 'High', 'Low', 'Close']]\n",
    "  return df\n",
    "\n",
    "symbol = '^NSEBANK'\n",
    "df = get_stock_price(symbol)"
   ]
  },
  {
   "cell_type": "code",
   "execution_count": 3,
   "id": "dc37ddaa",
   "metadata": {},
   "outputs": [],
   "source": [
    "#method 1: fractal candlestick pattern\n",
    "# determine bullish fractal \n",
    "\n",
    "def is_support(df,i):  \n",
    "  cond1 = df['Low'][i] < df['Low'][i-1]   \n",
    "  cond2 = df['Low'][i] < df['Low'][i+1]   \n",
    "  cond3 = df['Low'][i+1] < df['Low'][i+2]   \n",
    "  cond4 = df['Low'][i-1] < df['Low'][i-2]  \n",
    "  return (cond1 and cond2 and cond3 and cond4) \n",
    "\n",
    "# determine bearish fractal\n",
    "\n",
    "def is_resistance(df,i):  \n",
    "  cond1 = df['High'][i] > df['High'][i-1]   \n",
    "  cond2 = df['High'][i] > df['High'][i+1]   \n",
    "  cond3 = df['High'][i+1] > df['High'][i+2]   \n",
    "  cond4 = df['High'][i-1] > df['High'][i-2]  \n",
    "  return (cond1 and cond2 and cond3 and cond4)\n",
    "\n",
    "# to make sure the new level area does not exist already\n",
    "\n",
    "def is_far_from_level(value, levels, df):    \n",
    "  ave =  np.mean(df['High'] - df['Low'])    \n",
    "  return np.sum([abs(value-level)<ave for _,level in levels])==0\n",
    "\n",
    "# a list to store resistance and support levels\n",
    "\n",
    "levels = []\n",
    "for i in range(2, df.shape[0] - 2):  \n",
    "  if is_support(df, i):    \n",
    "    low = df['Low'][i]    \n",
    "    if is_far_from_level(low, levels, df):      \n",
    "      levels.append((i, low))  \n",
    "  elif is_resistance(df, i):    \n",
    "    high = df['High'][i]    \n",
    "    if is_far_from_level(high, levels, df):      \n",
    "      levels.append((i, high))"
   ]
  },
  {
   "cell_type": "markdown",
   "id": "4e63c4f4-34d9-4b58-9a78-04f232c2f416",
   "metadata": {},
   "source": [
    "The is_support and is_resistance functions are used to identify bullish and bearish fractals respectively, based on the four conditions specified in each function. The is_far_from_level function is used to check if the new support or resistance level is not too close to an existing one, using the average distance between the high and low prices as a threshold.\n",
    "\n",
    "Finally, a list levels is created to store the identified support and resistance levels, using the is_support and is_resistance functions and the is_far_from_level function to filter out duplicate levels."
   ]
  },
  {
   "cell_type": "code",
   "execution_count": 4,
   "id": "c7e43949",
   "metadata": {},
   "outputs": [],
   "source": [
    "def plot_all(levels, df):    \n",
    "  fig, ax = plt.subplots(figsize=(16, 9))   \n",
    "  candlestick_ohlc(ax,df.values,width=0.6, colorup='green', \n",
    "    colordown='red', alpha=0.8)    \n",
    "  date_format = mpl_dates.DateFormatter('%d %b %Y')\n",
    "  ax.xaxis.set_major_formatter(date_format)    \n",
    "  for level in levels:        \n",
    "    plt.hlines(level[1], xmin = df['Date'][level[0]], xmax = \n",
    "      max(df['Date']), colors='blue', linestyle='--')    \n",
    "  fig.show()"
   ]
  },
  {
   "cell_type": "markdown",
   "id": "8153fa13-534d-4c82-b12c-ed59bce8c837",
   "metadata": {},
   "source": [
    "The function plot_all takes two arguments: levels, a list of tuples representing the support and resistance levels identified by the previous code block, and df, a pandas DataFrame containing the financial time series data.\n",
    "\n",
    "It then plots the candlestick chart using candlestick_ohlc from the mpl_finance module, with the price data from df, and the colors green and red to indicate up and down periods respectively.\n",
    "\n",
    "Next, the function sets the date format for the x-axis tick labels using ax.xaxis.set_major_formatter. \n",
    "\n",
    "Finally, the function plots each of the support and resistance levels as horizontal lines using plt.hlines, with the level value taken from the tuple, and the minimum x-coordinate and maximum x-coordinate obtained from the Date column of df and the max function respectively."
   ]
  },
  {
   "cell_type": "code",
   "execution_count": 5,
   "id": "7673c91c",
   "metadata": {},
   "outputs": [
    {
     "name": "stdout",
     "output_type": "stream",
     "text": [
      "[*********************100%***********************]  1 of 1 completed\n"
     ]
    },
    {
     "data": {
      "image/png": "[encoded data removed]",
      "text/plain": [
       "<Figure size 1152x648 with 1 Axes>"
      ]
     },
     "metadata": {
      "needs_background": "light"
     },
     "output_type": "display_data"
    }
   ],
   "source": [
    "#method 2: window shifting method\n",
    "#using the same symbol as the first example above\n",
    "\n",
    "df = get_stock_price(symbol)\n",
    "pivots = []\n",
    "\n",
    "max_list = []\n",
    "min_list = []\n",
    "\n",
    "for i in range(5, len(df)-5):\n",
    "# taking a window of 9 candles\n",
    "  high_range = df['High'][i-5:i+4]\n",
    "  current_max = high_range.max()\n",
    "  \n",
    "# if we find a new maximum value, empty the max_list \n",
    "  if current_max not in max_list:\n",
    "    max_list = []\n",
    "  max_list.append(current_max)\n",
    "  \n",
    "# if the maximum value remains the same after shifting 5 times\n",
    "  if len(max_list)==5 and is_far_from_level(current_max,pivots,df):\n",
    "      pivots.append((high_range.idxmax(), current_max))\n",
    "    \n",
    "  low_range = df['Low'][i-5:i+5]\n",
    "  current_min = low_range.min()\n",
    "  if current_min not in min_list:\n",
    "    min_list = []\n",
    "  min_list.append(current_min)\n",
    "  if len(min_list)==5 and is_far_from_level(current_min,pivots,df):\n",
    "    pivots.append((low_range.idxmin(), current_min))\n",
    "\n",
    "plot_all(pivots, df)"
   ]
  },
  {
   "cell_type": "markdown",
   "id": "b8a24950-9bb3-4db0-851b-0537f7631ef4",
   "metadata": {},
   "source": [
    "Finally, the code calls the plot_all function (defined in the first code block) to plot the financial time series data and the identified support and resistance levels on the same chart.\n",
    "\n",
    "Overall, this code block is using a window shifting method to identify potential support and resistance levels in a financial time series dataset, where a level is identified if the maximum or minimum value within a window of 9 candles remains the same for 5 consecutive periods and is far from any previously identified levels."
   ]
  },
  {
   "cell_type": "markdown",
   "id": "baaee4bb-97f7-46e7-a986-df2fe8dcf4bb",
   "metadata": {},
   "source": [
    "***"
   ]
  },
  {
   "cell_type": "markdown",
   "id": "493bd0dd-e3a3-479a-ba82-328959b42d15",
   "metadata": {},
   "source": [
    "# Disclaimer "
   ]
  },
  {
   "cell_type": "markdown",
   "id": "18f2e501-987f-4179-a9ea-7980cc76d61e",
   "metadata": {},
   "source": [
    "It is important to note that this code only provides a simple implementation of identifying support and resistance levels, and should be used with caution. Other factors such as market conditions, volume, and news events should also be considered when making trading decisions. Additionally, this code does not take into account potential false positives or false negatives, which can occur when using technical analysis methods."
   ]
  },
  {
   "cell_type": "markdown",
   "id": "3f7dd0b1-df2b-4082-88e5-53d57d592463",
   "metadata": {},
   "source": [
    "Thanks for reading!"
   ]
  },
  {
   "cell_type": "markdown",
   "id": "fa3f388d-a4dd-4076-af15-9eec865a132e",
   "metadata": {},
   "source": [
    "Best,\n",
    "Chirsler."
   ]
  }
 ],
 "metadata": {
  "kernelspec": {
   "display_name": "Python 3 (ipykernel)",
   "language": "python",
   "name": "python3"
  },
  "language_info": {
   "codemirror_mode": {
    "name": "ipython",
    "version": 3
   },
   "file_extension": ".py",
   "mimetype": "text/x-python",
   "name": "python",
   "nbconvert_exporter": "python",
   "pygments_lexer": "ipython3",
   "version": "3.9.7"
  }
 },
 "nbformat": 4,
 "nbformat_minor": 5
}
